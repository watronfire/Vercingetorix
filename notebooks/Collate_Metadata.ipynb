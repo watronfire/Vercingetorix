{
 "cells": [
  {
   "cell_type": "code",
   "execution_count": 2,
   "metadata": {
    "ExecuteTime": {
     "end_time": "2019-10-08T18:17:03.645796Z",
     "start_time": "2019-10-08T18:17:03.643383Z"
    }
   },
   "outputs": [],
   "source": [
    "import pandas as pd\n",
    "import os"
   ]
  },
  {
   "cell_type": "code",
   "execution_count": 13,
   "metadata": {
    "ExecuteTime": {
     "end_time": "2019-10-08T18:21:11.668066Z",
     "start_time": "2019-10-08T18:21:11.664708Z"
    }
   },
   "outputs": [],
   "source": [
    "input_dir = \"/Users/natem/storedAnalysis/output_sm/\"\n"
   ]
  },
  {
   "cell_type": "markdown",
   "metadata": {},
   "source": [
    "### UMI_extraction Metadata"
   ]
  },
  {
   "cell_type": "code",
   "execution_count": 70,
   "metadata": {
    "ExecuteTime": {
     "end_time": "2019-10-08T20:07:44.652538Z",
     "start_time": "2019-10-08T20:07:44.630073Z"
    }
   },
   "outputs": [
    {
     "data": {
      "text/html": [
       "<div>\n",
       "<style scoped>\n",
       "    .dataframe tbody tr th:only-of-type {\n",
       "        vertical-align: middle;\n",
       "    }\n",
       "\n",
       "    .dataframe tbody tr th {\n",
       "        vertical-align: top;\n",
       "    }\n",
       "\n",
       "    .dataframe thead th {\n",
       "        text-align: right;\n",
       "    }\n",
       "</style>\n",
       "<table border=\"1\" class=\"dataframe\">\n",
       "  <thead>\n",
       "    <tr style=\"text-align: right;\">\n",
       "      <th></th>\n",
       "      <th>Total_Reads</th>\n",
       "      <th>Barcode_Reads</th>\n",
       "    </tr>\n",
       "    <tr>\n",
       "      <th>Sample</th>\n",
       "      <th></th>\n",
       "      <th></th>\n",
       "    </tr>\n",
       "  </thead>\n",
       "  <tbody>\n",
       "    <tr>\n",
       "      <th>C3</th>\n",
       "      <td>813060</td>\n",
       "      <td>743052</td>\n",
       "    </tr>\n",
       "    <tr>\n",
       "      <th>C2</th>\n",
       "      <td>520966</td>\n",
       "      <td>471461</td>\n",
       "    </tr>\n",
       "  </tbody>\n",
       "</table>\n",
       "</div>"
      ],
      "text/plain": [
       "        Total_Reads  Barcode_Reads\n",
       "Sample                            \n",
       "C3           813060         743052\n",
       "C2           520966         471461"
      ]
     },
     "execution_count": 70,
     "metadata": {},
     "output_type": "execute_result"
    }
   ],
   "source": [
    "samples = [_ for _ in os.listdir( os.path.join( input_dir, \"umi_extracted\" ) ) if os.path.isdir( os.path.join( input_dir, \"umi_extracted\", _ ) )]\n",
    "\n",
    "extraction_list = list()\n",
    "\n",
    "for _ in samples:\n",
    "    temp = pd.read_csv( os.path.join( input_dir, \"umi_extracted\", _, \"checkout.log.txt\" ), sep=\"\\t\" )\n",
    "    umis_identified = int( temp.loc[temp[\"SAMPLE\"]==_, \"MASTER\"] )\n",
    "    total_reads = umis_identified + int( temp.loc[temp[\"SAMPLE\"]==\"undef-m\", \"MASTER\"] )\n",
    "    extraction_list.append( [_, total_reads, umis_identified ] )\n",
    "metadata_df = pd.DataFrame( extraction_list, columns=[\"Sample\", \"Total_Reads\", \"Barcode_Reads\" ] )\n",
    "metadata_df.set_index( \"Sample\", inplace=True )\n",
    "metadata_df"
   ]
  },
  {
   "cell_type": "markdown",
   "metadata": {},
   "source": [
    "### MIG_statitics"
   ]
  },
  {
   "cell_type": "code",
   "execution_count": 71,
   "metadata": {
    "ExecuteTime": {
     "end_time": "2019-10-08T20:07:47.482900Z",
     "start_time": "2019-10-08T20:07:47.464470Z"
    }
   },
   "outputs": [
    {
     "data": {
      "text/html": [
       "<div>\n",
       "<style scoped>\n",
       "    .dataframe tbody tr th:only-of-type {\n",
       "        vertical-align: middle;\n",
       "    }\n",
       "\n",
       "    .dataframe tbody tr th {\n",
       "        vertical-align: top;\n",
       "    }\n",
       "\n",
       "    .dataframe thead th {\n",
       "        text-align: right;\n",
       "    }\n",
       "</style>\n",
       "<table border=\"1\" class=\"dataframe\">\n",
       "  <thead>\n",
       "    <tr style=\"text-align: right;\">\n",
       "      <th></th>\n",
       "      <th>Total_Reads</th>\n",
       "      <th>Barcode_Reads</th>\n",
       "      <th>Sample_Type</th>\n",
       "      <th>Total_MIGS</th>\n",
       "      <th>Overseq_Threshold</th>\n",
       "      <th>Collision_Threshold</th>\n",
       "      <th>UMI_Quality_Threshold</th>\n",
       "      <th>UMI_Length</th>\n",
       "    </tr>\n",
       "    <tr>\n",
       "      <th>Sample</th>\n",
       "      <th></th>\n",
       "      <th></th>\n",
       "      <th></th>\n",
       "      <th></th>\n",
       "      <th></th>\n",
       "      <th></th>\n",
       "      <th></th>\n",
       "      <th></th>\n",
       "    </tr>\n",
       "  </thead>\n",
       "  <tbody>\n",
       "    <tr>\n",
       "      <th>C3</th>\n",
       "      <td>813060</td>\n",
       "      <td>743052</td>\n",
       "      <td>paired</td>\n",
       "      <td>34496</td>\n",
       "      <td>16</td>\n",
       "      <td>16</td>\n",
       "      <td>15</td>\n",
       "      <td>12</td>\n",
       "    </tr>\n",
       "    <tr>\n",
       "      <th>C2</th>\n",
       "      <td>520966</td>\n",
       "      <td>471461</td>\n",
       "      <td>paired</td>\n",
       "      <td>91932</td>\n",
       "      <td>8</td>\n",
       "      <td>8</td>\n",
       "      <td>15</td>\n",
       "      <td>12</td>\n",
       "    </tr>\n",
       "  </tbody>\n",
       "</table>\n",
       "</div>"
      ],
      "text/plain": [
       "        Total_Reads  Barcode_Reads Sample_Type  Total_MIGS  Overseq_Threshold  \\\n",
       "Sample                                                                          \n",
       "C3           813060         743052      paired       34496                 16   \n",
       "C2           520966         471461      paired       91932                  8   \n",
       "\n",
       "        Collision_Threshold  UMI_Quality_Threshold  UMI_Length  \n",
       "Sample                                                          \n",
       "C3                       16                     15          12  \n",
       "C2                        8                     15          12  "
      ]
     },
     "execution_count": 71,
     "metadata": {},
     "output_type": "execute_result"
    }
   ],
   "source": [
    "ms = pd.read_csv( os.path.join( input_dir, \"mig_statistics\", \"estimates.txt\"), sep=\"\\t\" )\n",
    "ms.rename( columns={\"#SAMPLE_ID\" : \"Sample\",\n",
    "                    \"SAMPLE_TYPE\" : \"Sample_Type\",\n",
    "                    \"TOTAL_MIGS\" : \"Total_MIGS\", \n",
    "                    \"OVERSEQ_THRESHOLD\" : \"Overseq_Threshold\",\n",
    "                    \"COLLISION_THRESHOLD\" : \"Collision_Threshold\",\n",
    "                    \"UMI_QUAL_THRESHOLD\" : \"UMI_Quality_Threshold\",\n",
    "                    \"UMI_LEN\" : \"UMI_Length\" }, inplace=True )\n",
    "ms.drop( \"TOTAL_READS\", inplace=True, axis=1 )\n",
    "ms.set_index( \"Sample\", inplace=True )\n",
    "metadata_df = pd.concat( [metadata_df, ms], axis=1 )\n",
    "metadata_df"
   ]
  },
  {
   "cell_type": "markdown",
   "metadata": {},
   "source": [
    "### UMI_Collapsed"
   ]
  },
  {
   "cell_type": "code",
   "execution_count": 72,
   "metadata": {
    "ExecuteTime": {
     "end_time": "2019-10-08T20:07:50.812840Z",
     "start_time": "2019-10-08T20:07:50.795904Z"
    }
   },
   "outputs": [
    {
     "data": {
      "text/plain": [
       "Sample\n",
       "C3    2033\n",
       "C2    4422\n",
       "Name: MIGs_Good_Total, dtype: int64"
      ]
     },
     "execution_count": 72,
     "metadata": {},
     "output_type": "execute_result"
    }
   ],
   "source": [
    "uc = pd.read_csv( os.path.join( input_dir, \"umi_collapsed\", \"assemble.log.txt\" ), sep=\"\\t\" )\n",
    "uc.drop( [\"SAMPLE_TYPE\", \"INPUT_FASTQ1\", 'MIGS_DROPPED_OVERSEQ_2', 'READS_DROPPED_OVERSEQ_2', 'READS_DROPPED_COLLISION_2', 'MIGS_DROPPED_COLLISION_2', \"INPUT_FASTQ2\", \"OUTPUT_ASSEMBLY1\", \"OUTPUT_ASSEMBLY2\", \"MIG_COUNT_THRESHOLD\", \"MIGS_TOTAL\"], axis=1, inplace=True )\n",
    "uc.rename( columns={ '#SAMPLE_ID' : 'Sample',\n",
    "                     'MIGS_GOOD_FASTQ1' : 'MIGs_Good_R1',\n",
    "                     'MIGS_GOOD_FASTQ2' : 'MIGs_Good_R2',\n",
    "                     'MIGS_GOOD_TOTAL' : 'MIGs_Good_Total',\n",
    "                     'READS_GOOD_FASTQ1' : 'Reads_Good_R1',\n",
    "                     'READS_GOOD_FASTQ2' : 'Reads_Good_R2',\n",
    "                     'READS_GOOD_TOTAL' : 'Reads_Good_Total',\n",
    "                     'READS_TOTAL' : 'Total_Reads_Collapsed',\n",
    "                     'READS_DROPPED_WITHIN_MIG_1' : 'Reads_Dropped_Within_MIG_1',\n",
    "                     'READS_DROPPED_WITHIN_MIG_2' : 'Reads_Dropped_Within_MIG_2',\n",
    "                     'MIGS_DROPPED_OVERSEQ_1' : 'MIGs_Dropped_Overseq',\n",
    "                     'READS_DROPPED_OVERSEQ_1' : 'Reads_Dropped_Overseq',\n",
    "                     'MIGS_DROPPED_COLLISION_1' : 'MIGs_Dropped_Collision',\n",
    "                     'READS_DROPPED_COLLISION_1' : 'Reads_Dropped_Collision' }, inplace=True )\n",
    "uc.set_index( \"Sample\", inplace=True )\n",
    "metadata_df = pd.concat( [metadata_df, uc], axis=1 )\n",
    "metadata_df[\"MIGs_Good_Total\"]"
   ]
  },
  {
   "cell_type": "markdown",
   "metadata": {
    "ExecuteTime": {
     "end_time": "2019-10-08T19:05:02.452484Z",
     "start_time": "2019-10-08T19:05:02.447815Z"
    }
   },
   "source": [
    "### Contamination Removal"
   ]
  },
  {
   "cell_type": "code",
   "execution_count": 76,
   "metadata": {
    "ExecuteTime": {
     "end_time": "2019-10-08T20:12:43.836795Z",
     "start_time": "2019-10-08T20:12:43.807397Z"
    }
   },
   "outputs": [
    {
     "data": {
      "text/html": [
       "<div>\n",
       "<style scoped>\n",
       "    .dataframe tbody tr th:only-of-type {\n",
       "        vertical-align: middle;\n",
       "    }\n",
       "\n",
       "    .dataframe tbody tr th {\n",
       "        vertical-align: top;\n",
       "    }\n",
       "\n",
       "    .dataframe thead th {\n",
       "        text-align: right;\n",
       "    }\n",
       "</style>\n",
       "<table border=\"1\" class=\"dataframe\">\n",
       "  <thead>\n",
       "    <tr style=\"text-align: right;\">\n",
       "      <th></th>\n",
       "      <th>Total_Reads</th>\n",
       "      <th>Barcode_Reads</th>\n",
       "      <th>Sample_Type</th>\n",
       "      <th>Total_MIGS</th>\n",
       "      <th>Overseq_Threshold</th>\n",
       "      <th>Collision_Threshold</th>\n",
       "      <th>UMI_Quality_Threshold</th>\n",
       "      <th>UMI_Length</th>\n",
       "      <th>MIGs_Good_R1</th>\n",
       "      <th>MIGs_Good_R2</th>\n",
       "      <th>...</th>\n",
       "      <th>Total_Reads_Collapsed</th>\n",
       "      <th>Reads_Dropped_Within_MIG_1</th>\n",
       "      <th>Reads_Dropped_Within_MIG_2</th>\n",
       "      <th>MIGs_Dropped_Overseq</th>\n",
       "      <th>Reads_Dropped_Overseq</th>\n",
       "      <th>MIGs_Dropped_Collision</th>\n",
       "      <th>Reads_Dropped_Collision</th>\n",
       "      <th>Contaminated_MIGs</th>\n",
       "      <th>Good_MIGs</th>\n",
       "      <th>Good_Reads_PCT</th>\n",
       "    </tr>\n",
       "  </thead>\n",
       "  <tbody>\n",
       "    <tr>\n",
       "      <th>C2</th>\n",
       "      <td>520966</td>\n",
       "      <td>471461</td>\n",
       "      <td>paired</td>\n",
       "      <td>91932</td>\n",
       "      <td>8</td>\n",
       "      <td>8</td>\n",
       "      <td>15</td>\n",
       "      <td>12</td>\n",
       "      <td>4645</td>\n",
       "      <td>4479</td>\n",
       "      <td>...</td>\n",
       "      <td>469653</td>\n",
       "      <td>3390</td>\n",
       "      <td>11485</td>\n",
       "      <td>73010</td>\n",
       "      <td>91310</td>\n",
       "      <td>14155</td>\n",
       "      <td>17387</td>\n",
       "      <td>1166</td>\n",
       "      <td>3256</td>\n",
       "      <td>73.63%</td>\n",
       "    </tr>\n",
       "    <tr>\n",
       "      <th>C3</th>\n",
       "      <td>813060</td>\n",
       "      <td>743052</td>\n",
       "      <td>paired</td>\n",
       "      <td>34496</td>\n",
       "      <td>16</td>\n",
       "      <td>16</td>\n",
       "      <td>15</td>\n",
       "      <td>12</td>\n",
       "      <td>2272</td>\n",
       "      <td>2039</td>\n",
       "      <td>...</td>\n",
       "      <td>739403</td>\n",
       "      <td>6651</td>\n",
       "      <td>62900</td>\n",
       "      <td>13715</td>\n",
       "      <td>32864</td>\n",
       "      <td>18410</td>\n",
       "      <td>30439</td>\n",
       "      <td>1166</td>\n",
       "      <td>867</td>\n",
       "      <td>42.65%</td>\n",
       "    </tr>\n",
       "  </tbody>\n",
       "</table>\n",
       "<p>2 rows × 24 columns</p>\n",
       "</div>"
      ],
      "text/plain": [
       "    Total_Reads  Barcode_Reads Sample_Type  Total_MIGS  Overseq_Threshold  \\\n",
       "C2       520966         471461      paired       91932                  8   \n",
       "C3       813060         743052      paired       34496                 16   \n",
       "\n",
       "    Collision_Threshold  UMI_Quality_Threshold  UMI_Length  MIGs_Good_R1  \\\n",
       "C2                    8                     15          12          4645   \n",
       "C3                   16                     15          12          2272   \n",
       "\n",
       "    MIGs_Good_R2  ...  Total_Reads_Collapsed  Reads_Dropped_Within_MIG_1  \\\n",
       "C2          4479  ...                 469653                        3390   \n",
       "C3          2039  ...                 739403                        6651   \n",
       "\n",
       "    Reads_Dropped_Within_MIG_2  MIGs_Dropped_Overseq  Reads_Dropped_Overseq  \\\n",
       "C2                       11485                 73010                  91310   \n",
       "C3                       62900                 13715                  32864   \n",
       "\n",
       "    MIGs_Dropped_Collision  Reads_Dropped_Collision  Contaminated_MIGs  \\\n",
       "C2                   14155                    17387               1166   \n",
       "C3                   18410                    30439               1166   \n",
       "\n",
       "    Good_MIGs  Good_Reads_PCT  \n",
       "C2       3256          73.63%  \n",
       "C3        867          42.65%  \n",
       "\n",
       "[2 rows x 24 columns]"
      ]
     },
     "execution_count": 76,
     "metadata": {},
     "output_type": "execute_result"
    }
   ],
   "source": [
    "cr = pd.read_csv( os.path.join( input_dir, \"cleaned/contamination.log.txt\" ) )\n",
    "cr.drop( [\"TOTAL_READS\"], axis=1, inplace=True )\n",
    "cr.rename( columns={ \"SAMPLE_ID\" : \"Sample\",\n",
    "                   \"CONTAMINATED_READS\" : \"Contaminated_MIGs\",\n",
    "                   \"GOOD_READS\" : \"Good_MIGs\",\n",
    "                   \"GOOD_READS_PCT\" : \"Good_Reads_PCT\" }, inplace=True )\n",
    "cr.set_index( \"Sample\", inplace=True )\n",
    "metadata_df = pd.concat( [metadata_df, cr ], axis=1, sort=True )\n",
    "metadata_df"
   ]
  },
  {
   "cell_type": "markdown",
   "metadata": {
    "ExecuteTime": {
     "end_time": "2019-10-08T20:55:00.061318Z",
     "start_time": "2019-10-08T20:55:00.057042Z"
    }
   },
   "source": [
    "### Assemble Repertoire"
   ]
  },
  {
   "cell_type": "code",
   "execution_count": 116,
   "metadata": {
    "ExecuteTime": {
     "end_time": "2019-10-08T22:19:07.123830Z",
     "start_time": "2019-10-08T22:19:07.101827Z"
    }
   },
   "outputs": [],
   "source": [
    "df = list()\n",
    "for sample in samples:\n",
    "    with open( os.path.join( input_dir, \"analyze\", \"{}.report\".format( sample ) ), \"r\" ) as ar:\n",
    "        value_dict = dict()\n",
    "        for _ in ar:\n",
    "            line_split = _.split(\":\")\n",
    "            if len( line_split ) > 1:\n",
    "                factor = line_split[0].split( \",\" )[0].replace( \" \", \"_\" )\n",
    "                value_split = line_split[1].split( \"(\" )\n",
    "                value =  value_split[0].strip()\n",
    "                try:\n",
    "                    if \".\" in value:\n",
    "                        value_dict[factor] = float( value )\n",
    "                    else:\n",
    "                        value_dict[factor] = int( value )\n",
    "                except ValueError:\n",
    "                    continue\n",
    "        df.append( pd.DataFrame( value_dict, index=[sample] ) )\n",
    "\n",
    "df = pd.concat( df, sort=True )\n",
    "df.drop( [\"Total_sequencing_reads\"], axis=1, inplace=True )\n",
    "metadata_df = pd.concat( [metadata_df, df], axis=1, sort=True)"
   ]
  },
  {
   "cell_type": "code",
   "execution_count": 117,
   "metadata": {
    "ExecuteTime": {
     "end_time": "2019-10-08T22:19:30.136930Z",
     "start_time": "2019-10-08T22:19:30.128235Z"
    }
   },
   "outputs": [],
   "source": [
    "metadata_df.to_csv( \"test.csv\", sep=\",\" )"
   ]
  }
 ],
 "metadata": {
  "kernelspec": {
   "display_name": "Python 3",
   "language": "python",
   "name": "python3"
  },
  "language_info": {
   "codemirror_mode": {
    "name": "ipython",
    "version": 3
   },
   "file_extension": ".py",
   "mimetype": "text/x-python",
   "name": "python",
   "nbconvert_exporter": "python",
   "pygments_lexer": "ipython3",
   "version": "3.7.3"
  }
 },
 "nbformat": 4,
 "nbformat_minor": 2
}
